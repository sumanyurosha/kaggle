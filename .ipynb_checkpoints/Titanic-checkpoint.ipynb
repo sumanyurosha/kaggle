{
 "cells": [
  {
   "cell_type": "code",
   "execution_count": 1,
   "metadata": {},
   "outputs": [],
   "source": [
    "import numpy as np # linear algebra\n",
    "import pandas as pd # data processing, CSV file I/O (e.g. pd.read_csv)\n",
    "\n",
    "import os\n",
    "\n",
    "import matplotlib.pyplot as plt\n",
    "from sklearn import linear_model\n",
    "from sklearn.preprocessing import Imputer"
   ]
  },
  {
   "cell_type": "code",
   "execution_count": 19,
   "metadata": {},
   "outputs": [
    {
     "name": "stdout",
     "output_type": "stream",
     "text": [
      "['PassengerId' 'Survived' 'Pclass' 'Name' 'Sex' 'Age' 'SibSp' 'Parch'\n",
      " 'Ticket' 'Fare' 'Cabin' 'Embarked']\n"
     ]
    }
   ],
   "source": [
    "#loading the dataset\n",
    "train_data = pd.read_csv('C:/Users/Sumanyu/Code/kaggle/titanic/train.csv')\n",
    "test_data = pd.read_csv('C:/Users/Sumanyu/Code/kaggle/titanic/test.csv')\n",
    "\n",
    "print(train_data.columns.values)"
   ]
  },
  {
   "cell_type": "code",
   "execution_count": 20,
   "metadata": {},
   "outputs": [],
   "source": [
    "def pre_process(data,data_set):\n",
    "    data.drop(['Name', 'Ticket', 'Cabin', 'Embarked','Fare'], axis=1, inplace=True)\n",
    "    gender = []\n",
    "    for i in range(len(data['Sex'])):\n",
    "        if data['Sex'][i] == 'male':\n",
    "             gender.append(1)\n",
    "        else :\n",
    "            gender.append(0)\n",
    "\n",
    "    data.drop(['Sex'], axis=1, inplace=True)\n",
    "    data['Gender'] = gender\n",
    "\n",
    "    if(data_set=='train'):\n",
    "        survivals = data['Survived']\n",
    "        data.drop(['PassengerId', 'Survived'], axis = 1, inplace=True)\n",
    "    else:\n",
    "        data.drop(['PassengerId'], axis = 1, inplace=True)\n",
    "\n",
    "    features = data\n",
    "\n",
    "    #removing nan values using imputation\n",
    "    imputer = Imputer()\n",
    "    new_features = pd.DataFrame(imputer.fit_transform(features))\n",
    "    new_features.columns = features.columns\n",
    "    \n",
    "    if(data_set=='train'):\n",
    "        return new_features, survivals\n",
    "    else:\n",
    "        return new_features\n"
   ]
  },
  {
   "cell_type": "code",
   "execution_count": 21,
   "metadata": {},
   "outputs": [
    {
     "name": "stdout",
     "output_type": "stream",
     "text": [
      "['Pclass' 'Age' 'SibSp' 'Parch' 'Gender']\n",
      "[0 0 0 0 1 0 1 0 1 0 0 0 1 0 1 1 0 0 1 1 0 0 1 1 1 0 1 0 0 0 0 0 1 1 0 0 1\n",
      " 1 0 0 0 0 0 1 1 0 0 0 1 1 0 0 1 1 0 0 0 0 0 1 0 0 0 1 0 1 1 0 0 1 1 0 1 0\n",
      " 1 0 0 1 0 1 0 0 0 0 0 0 1 1 1 0 1 0 1 0 1 0 1 0 1 0 1 0 0 0 1 0 0 0 0 0 0\n",
      " 1 1 1 1 0 0 1 0 1 1 0 1 0 0 1 0 0 0 0 0 0 1 0 0 0 0 0 1 0 0 1 0 0 0 0 0 0\n",
      " 0 0 1 0 0 1 0 0 1 1 0 1 1 0 1 0 0 1 0 0 1 1 0 0 0 0 0 1 1 0 1 1 0 0 1 0 1\n",
      " 0 1 0 0 0 0 0 0 0 0 0 1 1 0 1 1 0 0 1 0 0 1 0 1 0 0 0 0 1 0 0 1 0 1 0 1 0\n",
      " 1 0 1 1 0 1 0 0 0 1 0 0 0 0 0 0 1 1 1 1 0 0 0 0 1 0 1 1 1 0 0 0 0 0 0 0 1\n",
      " 0 0 0 1 1 0 0 0 0 1 0 0 0 1 1 0 1 0 0 0 0 1 0 1 1 1 0 0 0 0 0 0 1 0 0 0 0\n",
      " 1 0 0 0 0 0 0 0 1 1 0 0 0 0 0 0 0 1 1 1 0 0 0 0 0 0 0 0 1 0 1 0 0 0 1 0 0\n",
      " 1 0 0 0 0 0 0 0 0 0 1 0 1 0 1 0 1 1 0 0 0 1 0 1 0 0 1 0 1 1 0 1 0 0 1 1 0\n",
      " 0 1 0 0 1 1 1 0 0 0 0 0 1 1 0 1 0 0 0 0 1 1 0 0 0 1 0 1 0 0 1 0 1 1 0 0 0\n",
      " 0 1 1 1 1 1 0 1 0 0 0]\n"
     ]
    }
   ],
   "source": [
    "#training the model and predicting values\n",
    "\n",
    "#print(train_data.columns.values)\n",
    "\n",
    "test_ids = test_data['PassengerId']\n",
    "\n",
    "train_data, survivals = pre_process(train_data,'train')\n",
    "test_data = pre_process(test_data,'test')\n",
    "\n",
    "print(train_data.columns.values)\n",
    "\n",
    "#selecting a model\n",
    "model = linear_model.LogisticRegression()\n",
    "\n",
    "#fitting a model\n",
    "model.fit(train_data, survivals)\n",
    "\n",
    "#predicting the results\n",
    "predictions = model.predict(test_data)\n",
    "\n",
    "print(predictions)"
   ]
  },
  {
   "cell_type": "code",
   "execution_count": 24,
   "metadata": {},
   "outputs": [
    {
     "name": "stdout",
     "output_type": "stream",
     "text": [
      "   PassengerId  Survived\n",
      "0          892         0\n",
      "1          893         0\n",
      "2          894         0\n",
      "3          895         0\n",
      "4          896         1\n",
      "saved file Titatic_Predictions2.csv\n"
     ]
    }
   ],
   "source": [
    "submission = pd.DataFrame({'PassengerId':test_ids,'Survived':predictions})\n",
    "print(submission.head())\n",
    "\n",
    "filename = 'Titatic_Predictions2.csv'\n",
    "submission.to_csv(filename, index=False)\n",
    "print('saved file '+filename)"
   ]
  },
  {
   "cell_type": "code",
   "execution_count": null,
   "metadata": {},
   "outputs": [],
   "source": []
  }
 ],
 "metadata": {
  "kernelspec": {
   "display_name": "Python 3",
   "language": "python",
   "name": "python3"
  },
  "language_info": {
   "codemirror_mode": {
    "name": "ipython",
    "version": 3
   },
   "file_extension": ".py",
   "mimetype": "text/x-python",
   "name": "python",
   "nbconvert_exporter": "python",
   "pygments_lexer": "ipython3",
   "version": "3.7.0"
  }
 },
 "nbformat": 4,
 "nbformat_minor": 2
}
