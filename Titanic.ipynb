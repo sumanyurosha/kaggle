{
 "cells": [
  {
   "cell_type": "code",
   "execution_count": 26,
   "metadata": {},
   "outputs": [],
   "source": [
    "# This Python 3 environment comes with many helpful analytics libraries installed\n",
    "# It is defined by the kaggle/python docker image: https://github.com/kaggle/docker-python\n",
    "# For example, here's several helpful packages to load in \n",
    "\n",
    "import numpy as np # linear algebra\n",
    "import pandas as pd # data processing, CSV file I/O (e.g. pd.read_csv)\n",
    "\n",
    "# Input data files are available in the \"../input/\" directory.\n",
    "# For example, running this (by clicking run or pressing Shift+Enter) will list the files in the input directory\n",
    "\n",
    "import os\n",
    "#print(os.listdir(\"../input\"))\n",
    "\n",
    "# Any results you write to the current directory are saved as output.\n",
    "\n",
    "import matplotlib.pyplot as plt\n",
    "from sklearn import linear_model\n",
    "from sklearn.preprocessing import Imputer"
   ]
  },
  {
   "cell_type": "code",
   "execution_count": 27,
   "metadata": {},
   "outputs": [],
   "source": [
    "def pre_process(data,data_set):\n",
    "    data.drop(['Name', 'Ticket', 'Cabin', 'Embarked'], axis=1, inplace=True)\n",
    "    gender = []\n",
    "    for i in range(len(data['Sex'])):\n",
    "        if data['Sex'][i] == 'male':\n",
    "             gender.append(1)\n",
    "        else :\n",
    "            gender.append(0)\n",
    "\n",
    "    data.drop(['Sex'], axis=1, inplace=True)\n",
    "    data['Gender'] = gender\n",
    "\n",
    "    if(data_set=='train'):\n",
    "        survivals = data['Survived']\n",
    "        data.drop(['PassengerId', 'Survived'], axis = 1, inplace=True)\n",
    "    else:\n",
    "        data.drop(['PassengerId'], axis = 1, inplace=True)\n",
    "\n",
    "    features = data\n",
    "\n",
    "    #removing nan values using imputation\n",
    "    imputer = Imputer()\n",
    "    new_features = pd.DataFrame(imputer.fit_transform(features))\n",
    "    new_features.columns = features.columns\n",
    "    \n",
    "    if(data_set=='train'):\n",
    "        return new_features, survivals\n",
    "    else:\n",
    "        return new_features\n"
   ]
  },
  {
   "cell_type": "code",
   "execution_count": 28,
   "metadata": {},
   "outputs": [
    {
     "name": "stdout",
     "output_type": "stream",
     "text": [
      "[0 0 0 0 1 0 1 0 1 0 0 0 1 0 1 1 0 0 1 1 0 0 1 1 1 0 1 0 0 0 0 0 0 1 0 0 1\n",
      " 1 0 0 0 0 0 1 1 0 0 0 1 1 0 0 1 1 0 0 0 0 0 1 0 0 0 1 1 1 1 0 0 1 1 0 1 0\n",
      " 1 1 0 1 0 1 0 0 0 0 0 0 1 1 1 0 1 0 1 0 0 0 1 0 1 0 1 0 0 0 1 0 0 0 0 0 0\n",
      " 1 1 1 1 0 0 1 0 1 1 0 1 0 0 1 0 0 0 0 0 0 1 0 0 0 0 0 1 0 0 1 0 0 0 0 0 0\n",
      " 0 0 1 0 0 1 0 0 1 1 0 1 1 0 1 0 0 1 0 0 1 1 0 0 0 0 0 1 1 0 1 1 0 0 1 0 1\n",
      " 0 1 0 0 0 0 0 0 0 0 0 1 1 0 1 1 0 0 1 0 0 1 0 1 0 0 0 0 1 0 0 1 0 1 0 1 0\n",
      " 1 0 1 1 0 1 0 0 0 1 0 0 0 0 0 0 1 1 1 1 0 0 0 0 1 0 1 1 1 0 1 0 0 0 0 0 1\n",
      " 0 0 0 1 1 0 0 0 0 1 0 0 0 1 1 0 1 0 0 0 0 1 0 1 1 1 0 0 0 0 0 0 1 0 0 0 0\n",
      " 1 0 0 0 0 0 0 0 1 1 0 0 0 0 0 0 0 1 1 1 0 0 0 0 0 0 0 0 1 0 1 0 0 0 1 0 0\n",
      " 1 0 0 0 0 0 0 0 0 0 1 0 1 0 1 0 1 1 0 0 0 1 0 1 0 0 1 0 1 1 0 1 0 0 1 1 0\n",
      " 0 1 0 0 1 1 1 0 0 0 0 0 1 1 0 1 0 0 0 0 1 1 0 0 0 1 0 1 0 0 1 0 1 1 0 0 0\n",
      " 0 1 1 1 1 1 0 1 0 0 0]\n"
     ]
    }
   ],
   "source": [
    "train_data = pd.read_csv('C:/Users/Sumanyu/Downloads/train.csv')\n",
    "test_data = pd.read_csv('C:/Users/Sumanyu/Downloads/test.csv')\n",
    "#print(train_data.columns.values)\n",
    "\n",
    "test_ids = test_data['PassengerId']\n",
    "\n",
    "train_data, survivals = pre_process(train_data,'train')\n",
    "test_data = pre_process(test_data,'test')\n",
    "\n",
    "#selecting a model\n",
    "model = linear_model.LogisticRegression()\n",
    "\n",
    "#fitting a model\n",
    "model.fit(train_data, survivals)\n",
    "\n",
    "#predicting the results\n",
    "predictions = model.predict(test_data)\n",
    "\n",
    "print(predictions)"
   ]
  },
  {
   "cell_type": "code",
   "execution_count": 29,
   "metadata": {},
   "outputs": [
    {
     "name": "stdout",
     "output_type": "stream",
     "text": [
      "   PassengerId  Survived\n",
      "0          892         0\n",
      "1          893         0\n",
      "2          894         0\n",
      "3          895         0\n",
      "4          896         1\n",
      "saved file Titatic_Predictions.csv\n"
     ]
    }
   ],
   "source": [
    "submission = pd.DataFrame({'PassengerId':test_ids,'Survived':predictions})\n",
    "print(submission.head())\n",
    "\n",
    "filename = 'Titatic_Predictions.csv'\n",
    "submission.to_csv(filename, index=False)\n",
    "print('saved file '+filename)"
   ]
  },
  {
   "cell_type": "code",
   "execution_count": null,
   "metadata": {},
   "outputs": [],
   "source": []
  }
 ],
 "metadata": {
  "kernelspec": {
   "display_name": "Python 3",
   "language": "python",
   "name": "python3"
  },
  "language_info": {
   "codemirror_mode": {
    "name": "ipython",
    "version": 3
   },
   "file_extension": ".py",
   "mimetype": "text/x-python",
   "name": "python",
   "nbconvert_exporter": "python",
   "pygments_lexer": "ipython3",
   "version": "3.7.0"
  }
 },
 "nbformat": 4,
 "nbformat_minor": 2
}
